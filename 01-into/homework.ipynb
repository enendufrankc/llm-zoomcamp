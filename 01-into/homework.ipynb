{
 "cells": [
  {
   "cell_type": "code",
   "execution_count": 1,
   "id": "6eea7cb1-a067-40c7-804b-70c738d4e992",
   "metadata": {},
   "outputs": [],
   "source": [
    "import openai"
   ]
  },
  {
   "cell_type": "code",
   "execution_count": 2,
   "id": "0896f98d-f330-4ad1-bae2-03e786212a30",
   "metadata": {},
   "outputs": [],
   "source": [
    "from openai import OpenAI"
   ]
  },
  {
   "cell_type": "code",
   "execution_count": 3,
   "id": "d83f13d7-feec-48f8-9850-bb0cd4621992",
   "metadata": {},
   "outputs": [],
   "source": [
    "client = OpenAI()"
   ]
  },
  {
   "cell_type": "code",
   "execution_count": 4,
   "id": "9a4162ce-8f94-4133-bbe8-92fea18f9e41",
   "metadata": {},
   "outputs": [],
   "source": [
    "import os"
   ]
  },
  {
   "cell_type": "code",
   "execution_count": 6,
   "id": "b7a7ba8c-e3e8-4006-953a-907b78e77d08",
   "metadata": {},
   "outputs": [],
   "source": [
    "response = client.chat.completions.create(\n",
    "    model='gpt-4o',\n",
    "    messages=[\n",
    "        {\n",
    "            \"role\": \"user\",\n",
    "            \"content\": \"Is it too late to join the course\"\n",
    "        }\n",
    "    ]\n",
    ")"
   ]
  },
  {
   "cell_type": "code",
   "execution_count": 10,
   "id": "32c9fae9-7b23-4945-9350-e47f1131502e",
   "metadata": {},
   "outputs": [
    {
     "data": {
      "text/plain": [
       "\"It's never too late to inquire about joining a course; however, whether you can still enroll depends on several factors. Here are some steps you can take to find out:\\n\\n1. **Check Enrollment Deadlines**: Look up the specific course information online or contact the institution offering the course to find out if there is a deadline that has already passed.\\n\\n2. **Contact the Instructor or Administration**: Reach out directly to the instructor or the administration office. Sometimes, exceptions can be made, or there may be additional options such as late enrollment or waitlists.\\n\\n3. **Online and Self-Paced Options**: If traditional courses have already started, you might find similar courses available online that have flexible start dates and self-paced learning options.\\n\\n4. **Review Course Materials**: If you can join late, be prepared to catch up on any material you may have missed. Ask if there are resources or prerequisites you need to review beforehand.\\n\\n5. **Explore Future Offerings**: If joining right now is not an option, inquire about the next time the course will be offered so you can plan ahead.\\n\\nBy taking these steps, you can get a clear answer on whether joining the course at this stage is possible and what your options might be if it isn't.\""
      ]
     },
     "execution_count": 10,
     "metadata": {},
     "output_type": "execute_result"
    }
   ],
   "source": [
    "response.choices[0].message.content"
   ]
  },
  {
   "cell_type": "code",
   "execution_count": null,
   "id": "6544ea4c-292b-4662-ba07-9ac64eb888e2",
   "metadata": {},
   "outputs": [],
   "source": []
  }
 ],
 "metadata": {
  "kernelspec": {
   "display_name": "Python 3 (ipykernel)",
   "language": "python",
   "name": "python3"
  },
  "language_info": {
   "codemirror_mode": {
    "name": "ipython",
    "version": 3
   },
   "file_extension": ".py",
   "mimetype": "text/x-python",
   "name": "python",
   "nbconvert_exporter": "python",
   "pygments_lexer": "ipython3",
   "version": "3.10.13"
  }
 },
 "nbformat": 4,
 "nbformat_minor": 5
}
